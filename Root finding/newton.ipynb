import numpy as np
import pandas as pd


def f(x):
  return x**3 - (0.165 * x**2) + 3.993 * 1e-4
def f1(x):
    return (3*x**2) - (2*0.165*x)

def my_newton(xi, tol):
  error = None
  arrxi, arre = ([] for i in range(2))

  while error == None or error > tol:
    xi_1 = xi - (f(xi) / f1(xi))

    arrxi.append(xi)
    if error == None:
      arre.append(None)
    else:
      arre.append(error)
    
    error = (np.abs(xi_1 - xi) / xi_1) * 100.0

    xi = xi_1

  print(xi)
  d = {"xi": arrxi, "Error": arre}
  tabledf = pd.DataFrame(data = d)
  display(tabledf)


def main():
  my_newton(0.05, 0.0001)

main()
