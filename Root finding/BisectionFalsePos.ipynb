import numpy as np
import pandas as pd


def f(x):
  return x**3 - (0.165 * x**2) + 3.993 * 1e-4

def my_bisection(l, h, tol):
  root = None
  arrl, arrh, arrm, arre, arrfm = ([] for i in range(5))

  while True:
    m = (l + h) / 2

    arrl.append(l)
    arrh.append(h)
    arrm.append(m)
    
    fm = f(m);
    arrfm.append(fm)

    if root == None:
      arre.append(None)
    else:
      error = (np.abs(m - root) / m) * 100.0
      arre.append(error)
      if error <= tol:
        break

    root = m
    if f(l) * f(m) < 0:
      h = m
    elif f(l) * f(m) > 0:
      l = m
    else:
      break

  print(root)
  d = {"xl" : arrl, "xu" : arrh, "xm" : arrm, "error(%)" : arre, "f(m)" : arrfm}
  tabledf = pd.DataFrame(data = d)
  display(tabledf)


def my_falsePosition(l, h, tol):
  root = None
  arrl, arrh, arrm, arre, arrfm = ([] for i in range(5))

  while True:
    m = (h * f(l) - l * f(h)) / (f(l) - f(h))

    arrl.append(l)
    arrh.append(h)
    arrm.append(m)
    
    fm = f(m);
    arrfm.append(fm)

    if root == None:
      arre.append(None)
    else:
      error = (np.abs(m - root) / m) * 100.0
      arre.append(error)
      if error <= tol:
        break

    root = m
    if f(l) * f(m) < 0:
      h = m
    elif f(l) * f(m) > 0:
      l = m
    else:
      break

  print(root)
  d = {"xl" : arrl, "xu" : arrh, "xm" : arrm, "error(%)" : arre, "f(m)" : arrfm}
  tabledf = pd.DataFrame(data = d)
  display(tabledf)

def main():
  # my_bisection(0.00, 0.11, 0.001)
  my_falsePosition(0.00, 0.11, 0.001)

main()
