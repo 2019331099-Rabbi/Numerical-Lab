import numpy as np
import pandas as pd


def f(x):
  return x**3 - (0.165 * x**2) + 3.993 * 1e-4

def my_secant(xi_, xi, tol):
  error = None
  arrxi_, arrxi, arrxi_1, arre = ([] for i in range(4))

  while error == None or error > tol:
    xi_1 = xi - f(xi)*(xi-xi_)/(f(xi)-f(xi_))

    arrxi.append(xi)
    arrxi_.append(xi_)
    arrxi_1.append(xi_1)
    if error == None:
      arre.append(None)
    else:
      arre.append(error)
    
    error = (np.abs(xi_1 - xi) / xi_1) * 100.0

    xi_ = xi
    xi = xi_1

  print(xi)
  d = {"xi_": arrxi_, "xi": arrxi, "xi+1": arrxi_1, "Error": arre}
  tabledf = pd.DataFrame(data = d)
  display(tabledf)


def main():
  my_secant(0.02, 0.05, 0.0001)

main()
