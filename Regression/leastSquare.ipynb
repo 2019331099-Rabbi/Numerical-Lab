import numpy as np
import matplotlib.pyplot as plt

def reg_lsc(x, y):
  n = len(x)
  x_mean = np.mean(x)
  y_mean = np.mean(y)

  sumx = 0
  sumy = 0
  sumx2 = 0
  sumy2 = 0
  sumxy = 0
  for i in range(0, n):
    sumx += x[i]
    sumy += y[i]
    sumx2 += x[i]*x[i]
    sumy2 += y[i]*y[i]
    sumxy += x[i]*y[i]

  a1 = n*sumxy - sumx*sumy
  a1 /= (n*sumx2 - sumx*sumx)

  a0 = y_mean - a1*x_mean

  print(a0, a1)

  y_predicted = []
  for i in range(0, n):
    y_predicted.append(reg_value(a0, a1, x[i]))
  print(y_predicted)

  plt.plot(x, y_predicted)
  plt.show()


def reg_value(a0, a1, x):
  return a0 + a1*x

def main():
  x  =[1, 2, 3, 4, 5]
  y = [2, 3, 4, 5, 6]
  reg_lsc(x, y)

  


main()