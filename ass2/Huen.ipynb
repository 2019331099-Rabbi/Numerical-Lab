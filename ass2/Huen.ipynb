def f(x, y):
  return -2.2067*(1e-12) * (y*y*y*y - 81*(1e8))

def huen(xi_, yi_, h, x):
  yi = None

  while True:
    k1 = f(xi_, yi_)
    k2 = f(xi_+h, yi_+k1*h)
    xi_ = xi_ + h
    yi_ = yi_ + (0.5*k1 + 0.5*k2)*h;
    print(str(yi_) + " " + str(xi_))

    if xi_ >= x:
      break
  print(yi_)

def main():
  huen(0, 1200, 240, 480)

  
main()

# 25 5 1 106.8
# 64 8 1 177.2
# 144 12 1 279.2