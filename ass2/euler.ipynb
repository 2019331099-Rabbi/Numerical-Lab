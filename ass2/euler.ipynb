def f(x, h):
  return -2.2067*(1e-12) * (x*x*x*x - 81*(1e8))

def euler(xi_, yi_, h, x):
  yi = None

  while True:
    yi_ = yi_ + f(yi_, h)*h
    xi_ = xi_ + h
    if xi_ >= x:
      break
    print(str(yi_) + " " + str(xi_))
  print(yi_)

def main():
  euler(0, 1200, 30, 480)

  
main()

# 25 5 1 106.8
# 64 8 1 177.2
# 144 12 1 279.2