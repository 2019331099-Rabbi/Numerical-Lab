def partialPivot():
  coef=[[25, 5, 1, 106.8],[64, 8, 1, 177.2],[144, 12, 1, 279.2]]

  n = len(coef)

  for i in range(0, n - 1):
    max_elem = i
    for j in range(i+1, n):
        if coef[j][i] > coef[max_elem][i]:
            max_elem = j
    coef[i], coef[max_elem] = coef[max_elem], coef[i]
    
    for j in range(i + 1, n):
      div = coef[j][i] / coef[i][i]
      for k in range(i + 1, n + 1):
        coef[j][k] = coef[j][k] - div * coef[i][k]
      coef[j][i] = 0

  for i in range(0, n):
    print(coef[i])
  
  print("")
  
  b = [None]*n

  for i in range(n-1, -1, -1):
      b[i] = coef[i][n]
      for j in range(i+1, n):
          b[i] -= b[j] * coef[i][j]
      b[i] /= coef[i][i]

  for i in range(n):
      print(b[i], end = ' ')
  

def main():
  partialPivot()
main()

# 25 5 1 106.8
# 64 8 1 177.2
# 144 12 1 279.2