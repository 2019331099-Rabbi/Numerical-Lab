# Direct Method of interpolation
def partialPivot(coef):
  n = len(coef)

  for i in range(0, n - 1):
    max_elem = i
    for j in range(i+1, n):
        if coef[j][i] > coef[max_elem][i]:
            max_elem = j
    coef[i], coef[max_elem] = coef[max_elem], coef[i]
    
    for j in range(i + 1, n):
      div = coef[j][i] / coef[i][i]
      for k in range(i + 1, n + 1):
        coef[j][k] = coef[j][k] - div * coef[i][k]
      coef[j][i] = 0
  
  b = [None]*n

  for i in range(n-1, -1, -1):
      b[i] = coef[i][n]
      for j in range(i+1, n):
          b[i] -= b[j] * coef[i][j]
      b[i] /= coef[i][i]

  for i in range(n):
    print(b[i], end = ' ')
  print("")
  return b

def value(coef, x):
  n = len(coef)

  res = 0
  for i in range(n):
    res += coef[i]*(x**i)
  return res

def main():
  x = 16 # Find the value at x = 16
  coef=[[1, 15, 362.78],[1, 20, 517.35]]
  linear = partialPivot(coef)
  linearres = value(linear, x)
  print("Linear result = ", str(linearres))

  coef=[[1, 10, 100, 227.04], [1, 15, 225, 362.78], [1, 20, 400, 517.35]]
  quadratic = partialPivot(coef)
  quadres = value(quadratic, x)
  print("quadratic result = ", str(quadres))

  coef=[[1, 10, 100, 1000, 227.04], [1, 15, 225, 3375, 362.78],
        [1, 20, 400, 8000, 517.35], [1, 22.5, 22.5*22.5, 22.5*22.5*22.5, 602.97]]
  cubic = partialPivot(coef)
  cubicres = value(cubic, x)
  print("cubic result = ", str(cubicres))


  #Table
  order = [1, 2, 3]
  res = [linearres, quadres, cubicres]
  error = [None, (abs(quadres-linearres)/quadres)*100,
           (abs(cubicres-quadres)/cubicres)*100]
  
  
  d = {"Order" : order, "Apprx Result" : res, "error(%)" : error}
  table = pd.DataFrame(data = d)
  display(table)



main()