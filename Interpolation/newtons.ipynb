# Newton’s Divided Difference Method
def linear(x, t, v):
  b = [None]*len(t)
  b[0] = v[0]
  b[1] = (v[1] - v[0]) / (t[1] - t[0])

  res = b[0] + b[1]*(x - t[0])
  return res;

def quadratic(x, t, v):
  b = [None]*len(t)
  b[0] = v[0]
  b[1] = (v[1] - v[0]) / (t[1] - t[0])

  b[2] = (v[2] - v[1]) / (t[2] - t[1]) - (v[1] - v[0]) / (t[1] - t[0])
  b[2] /= (t[2] - t[0])

  res = b[0] + b[1]*(x - t[0]) + b[2]*(x - t[0])*(x - t[1])
  return res;

def cubic(x, t, v):
  b = [None]*len(t)
  b[0] = v[0]
  b[1] = (v[1] - v[0]) / (t[1] - t[0])

  b[2] = (v[2] - v[1]) / (t[2] - t[1]) - b[1]
  b[2] /= (t[2] - t[0])

  b[3] = (v[3] - v[2]) / (t[3] - t[2]) - (v[2] - v[1]) / (t[2] - t[1])
  b[3] /= (t[3] - t[1])

  b[3] -= b[2]
  b[3] /= (t[3] - t[0])

  res = b[0] + b[1]*(x - t[0]) + b[2]*(x - t[0])*(x - t[1]) + b[3]*(x - t[0])*(x - t[1])*(x - t[2])
  return res;

def main():
  x = 16;

  cubicres = cubic(x, [10, 15, 20, 22.5], [227.04, 362.78, 517.35, 602.97])
  print("Cubic result = ", str(cubicres))

  quadres = quadratic(x, [10, 15, 20], [227.04, 362.78, 517.35])
  print("Quadratic result = ", str(quadres))

  linearres = linear(x, [15, 20], [362.78, 517.35])
  print("Linear result = ", str(linearres))

  #Table
  order = [1, 2, 3]
  res = [linearres, quadres, cubicres]
  error = [None, (abs(quadres-linearres)/quadres)*100,
           (abs(cubicres-quadres)/cubicres)*100]
  
  
  d = {"Order" : order, "Apprx Result" : res, "error(%)" : error}
  table = pd.DataFrame(data = d)
  display(table)

main()