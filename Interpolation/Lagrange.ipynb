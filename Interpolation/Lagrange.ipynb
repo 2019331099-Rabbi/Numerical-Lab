# Lagrange method of interpolation

def cubic(x, t, v):
  l0 = (x - t[1])*((x - t[2]))*(x - t[3])
  l0 /= (t[0] - t[1])*((t[0] - t[2]))*(t[0] - t[3])

  l1 = (x - t[0])*(x - t[2])*(x - t[3])
  l1 /= (t[1] - t[0])*(t[1] - t[2])*(t[1] - t[3])

  l2 = (x - t[0])*(x - t[1])*(x - t[3])
  l2 /= (t[2] - t[0])*(t[2] - t[1])*(t[2] - t[3])

  l3 = (x - t[0])*(x - t[1])*(x - t[2])
  l3 /= (t[3] - t[0])*(t[3] - t[1])*(t[3] - t[2])

  return l0*v[0] + l1*v[1] + l2*v[2] + l3*v[3]

def quadratic(x, t, v):
  l0 = (x - t[1])*((x - t[2]))
  l0 /= (t[0] - t[1])*(t[0] - t[2])

  l1 = (x - t[0])*(x - t[2])
  l1 /= (t[1] - t[0])*(t[1] - t[2])

  l2 = (x - t[0])*(x - t[1])
  l2 /= (t[2] - t[0])*(t[2] - t[1])

  return l0*v[0] + l1*v[1] + l2*v[2]

def linear(x, t, v):
  l0 = (x - t[1])
  l0 /= (t[0] - t[1])

  l1 = (x - t[0])
  l1 /= (t[1] - t[0])

  return l0*v[0] + l1*v[1]




def main():
  x = 16

  
  cubicres = cubic(x, [10, 15, 20, 22.5], [227.04, 362.78, 517.35, 602.97])
  print("Cubic result = ", str(cubicres))


  quadres = quadratic(x, [10, 15, 20], [227.04, 362.78, 517.35])
  print("Cubic result = ", str(quadres))

  linearres = linear(x, [15, 20], [362.78, 517.35])
  print("Cubic result = ", str(linearres))

  #Table
  order = [1, 2, 3]
  res = [linearres, quadres, cubicres]
  error = [None, (abs(quadres-linearres)/quadres)*100,
           (abs(cubicres-quadres)/cubicres)*100]
  
  
  d = {"Order" : order, "Apprx Result" : res, "error(%)" : error}
  table = pd.DataFrame(data = d)
  display(table)

  

main()