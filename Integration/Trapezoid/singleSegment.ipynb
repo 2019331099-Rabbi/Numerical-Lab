import math

def f(x):
  return 2000*math.log(140000/(140000-2100*x)) - 9.8*x

def simple_segment_trapezoid(a, b):
  return (b - a)*((f(a) + f(b))/2.0)

def main():
  a, b = 8, 30
  true_val = 11061.33554
  approx_val = simple_segment_trapezoid(a, b)
  print(true_val, approx_val)

  true_error = true_val - approx_val
  print("True error = ", str(true_error))

  abs_rel_error = (abs(true_error)/true_val)*100

  print("Absolute relative error", str(abs_rel_error))


main()