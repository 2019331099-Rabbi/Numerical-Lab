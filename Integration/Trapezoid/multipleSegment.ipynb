import math
import pandas as pd

def f(x):
  return 2000*math.log(140000/(140000-2100*x)) - 9.8*x

def multiple_segment_trapezoid(a, b, n):
  h = (b - a) / n
  res = 0
  for i in range(1, n):
    res += f(a + i*h)
  res *= 2
  res += f(a) + f(b)
  res *= ((b - a) / (2 * n))
  return res

def main():
  a, b = 8, 30
  true_val = 11061.33554
  
  # approx_val = multiple_segment_trapezoid(a, b, 2)
  # print("Approximate value = ", str(approx_val))
  # print("True value = ", str(true_val))
  # true_error = true_val - approx_val
  # print("True error = ", str(true_error))
  # abs_rel_error = (abs(true_error)/true_val)*100
  # print("Absolute relative error", str(abs_rel_error))

  
  arrn, arraprx, arrte, arrre = ([] for i in range(4))

  for i in range(1, 9):
    approx_val = multiple_segment_trapezoid(a, b, i)
    true_error = true_val - approx_val
    abs_rel_error = (abs(true_error)/true_val)*100

    arrn.append(i)
    arraprx.append(approx_val)
    arrte.append(true_error)
    arrre.append(abs_rel_error)

  d = {"n": arrn, "Approx Value": arraprx, "True Error": arrte, "Rel Error": arrre}
  table = pd.DataFrame(data = d)
  display(table)


main()